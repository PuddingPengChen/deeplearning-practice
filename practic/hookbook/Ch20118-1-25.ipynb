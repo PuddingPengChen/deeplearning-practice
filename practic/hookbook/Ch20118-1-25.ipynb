{
 "cells": [
  {
   "cell_type": "code",
   "execution_count": 14,
   "metadata": {},
   "outputs": [],
   "source": [
    "import numpy as np\n",
    "\n",
    "def generate_cude(x, y, length, step, power):\n",
    "    left_to_right = True\n",
    "    rb = 'G1 X{} Y{} P{}\\n'.format(x,y, power)\n",
    "    for ys in np.arange(y, y+length, step):\n",
    "        if left_to_right:\n",
    "            left_to_right = False\n",
    "            rb += 'G1 X{} Y{} P{}\\n'.format(x+length, round(ys,3), power)\n",
    "            rb += 'G1 X{} Y{}\\n'.format(x+length, round(ys+step,3), power)\n",
    "        else:\n",
    "            left_to_right = True\n",
    "            rb += 'G1 X{} Y{} P{}\\n'.format(x, round(ys,3), power)\n",
    "            rb += 'G1 X{} Y{}\\n'.format(x, round(ys+step,3), power)\n",
    "    return rb\n",
    "    \n",
    "                "
   ]
  },
  {
   "cell_type": "code",
   "execution_count": 15,
   "metadata": {},
   "outputs": [
    {
     "name": "stdout",
     "output_type": "stream",
     "text": [
      "G1 X5 Y5 P100\n",
      "G1 X15 Y5.0 P100\n",
      "G1 X15 Y5.4\n",
      "G1 X5 Y5.4 P100\n",
      "G1 X5 Y5.8\n",
      "G1 X15 Y5.8 P100\n",
      "G1 X15 Y6.2\n",
      "G1 X5 Y6.2 P100\n",
      "G1 X5 Y6.6\n",
      "G1 X15 Y6.6 P100\n",
      "G1 X15 Y7.0\n",
      "G1 X5 Y7.0 P100\n",
      "G1 X5 Y7.4\n",
      "G1 X15 Y7.4 P100\n",
      "G1 X15 Y7.8\n",
      "G1 X5 Y7.8 P100\n",
      "G1 X5 Y8.2\n",
      "G1 X15 Y8.2 P100\n",
      "G1 X15 Y8.6\n",
      "G1 X5 Y8.6 P100\n",
      "G1 X5 Y9.0\n",
      "G1 X15 Y9.0 P100\n",
      "G1 X15 Y9.4\n",
      "G1 X5 Y9.4 P100\n",
      "G1 X5 Y9.8\n",
      "G1 X15 Y9.8 P100\n",
      "G1 X15 Y10.2\n",
      "G1 X5 Y10.2 P100\n",
      "G1 X5 Y10.6\n",
      "G1 X15 Y10.6 P100\n",
      "G1 X15 Y11.0\n",
      "G1 X5 Y11.0 P100\n",
      "G1 X5 Y11.4\n",
      "G1 X15 Y11.4 P100\n",
      "G1 X15 Y11.8\n",
      "G1 X5 Y11.8 P100\n",
      "G1 X5 Y12.2\n",
      "G1 X15 Y12.2 P100\n",
      "G1 X15 Y12.6\n",
      "G1 X5 Y12.6 P100\n",
      "G1 X5 Y13.0\n",
      "G1 X15 Y13.0 P100\n",
      "G1 X15 Y13.4\n",
      "G1 X5 Y13.4 P100\n",
      "G1 X5 Y13.8\n",
      "G1 X15 Y13.8 P100\n",
      "G1 X15 Y14.2\n",
      "G1 X5 Y14.2 P100\n",
      "G1 X5 Y14.6\n",
      "G1 X15 Y14.6 P100\n",
      "G1 X15 Y15.0\n",
      "\n"
     ]
    }
   ],
   "source": [
    "print(generate_cude(5, 5, 10, 0.4, 100))"
   ]
  },
  {
   "cell_type": "code",
   "execution_count": 38,
   "metadata": {},
   "outputs": [],
   "source": [
    "def generate_test_file():\n",
    "    with open('gray_test.gcode','wt') as f:\n",
    "        f.write('G28 \\nM14 \\nM3 S1 \\nG4 S2 \\nG0 Z19 \\n')\n",
    "        power = 0\n",
    "        for y in range(0, 150, 15):\n",
    "            for x in range(0, 150, 15):\n",
    "                power+=2.55\n",
    "                if power>255:\n",
    "                    power = 255\n",
    "                tmp = 'M4 P{} \\n'.format(round(power,3))\n",
    "                f.write(tmp)\n",
    "                rb = generate_cude(x, y, 10, 0.2, round(power,3))\n",
    "                f.write(rb)\n",
    "        f.write('G0 \\nM4 P0 \\nG28 \\nM14 \\nM3 S0 \\n')"
   ]
  },
  {
   "cell_type": "code",
   "execution_count": 39,
   "metadata": {},
   "outputs": [],
   "source": [
    "generate_test_file()"
   ]
  },
  {
   "cell_type": "code",
   "execution_count": null,
   "metadata": {
    "collapsed": true
   },
   "outputs": [],
   "source": []
  }
 ],
 "metadata": {
  "kernelspec": {
   "display_name": "Python 2",
   "language": "python",
   "name": "python2"
  },
  "language_info": {
   "codemirror_mode": {
    "name": "ipython",
    "version": 2
   },
   "file_extension": ".py",
   "mimetype": "text/x-python",
   "name": "python",
   "nbconvert_exporter": "python",
   "pygments_lexer": "ipython2",
   "version": "2.7.14"
  }
 },
 "nbformat": 4,
 "nbformat_minor": 2
}
