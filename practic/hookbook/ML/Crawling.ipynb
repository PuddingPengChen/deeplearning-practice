{
 "cells": [
  {
   "cell_type": "code",
   "execution_count": 19,
   "metadata": {},
   "outputs": [
    {
     "name": "stdout",
     "output_type": "stream",
     "text": [
      "['https://images.pexels.com/photos/808510/pexels-photo-808510.jpeg?auto=compress&cs=tinysrgb&h=350',\n",
      " 'https://images.pexels.com/photos/1055058/pexels-photo-1055058.jpeg?auto=compress&cs=tinysrgb&h=350',\n",
      " 'https://images.pexels.com/photos/573238/pexels-photo-573238.jpeg?auto=compress&cs=tinysrgb&h=350',\n",
      " 'https://images.pexels.com/photos/870843/pexels-photo-870843.jpeg?auto=compress&cs=tinysrgb&h=350',\n",
      " 'https://images.pexels.com/photos/556664/pexels-photo-556664.jpeg?auto=compress&cs=tinysrgb&h=350']\n",
      "12\n"
     ]
    }
   ],
   "source": [
    "import requests\n",
    "import re\n",
    "import os\n",
    "\n",
    "from PIL import Image\n",
    "from bs4 import BeautifulSoup\n",
    "from pprint import pprint\n",
    "\n",
    "url = 'https://www.pexels.com/'\n",
    "\n",
    "resp = requests.get(url)\n",
    "soup = BeautifulSoup(resp.text, 'lxml')\n",
    "article = soup.find('div', class_='photos').find_all('article', class_='photo-item')\n",
    "imgs = [a.find('a').find('img')['src'] for a in article]\n",
    "target = imgs[:5]\n",
    "\n",
    "pprint(target)\n",
    "print(len(imgs))"
   ]
  },
  {
   "cell_type": "code",
   "execution_count": 20,
   "metadata": {},
   "outputs": [
    {
     "name": "stdout",
     "output_type": "stream",
     "text": [
      "the real format is JPEG\n",
      "regex catch the name pexels-photo-808510.jpeg\n",
      "Save the img at F:\\PythonOpencvDemo\\deeplearning-practice\\practic\\hookbook\\results\\pexels-photo-808510.jpeg\n",
      "the real format is JPEG\n",
      "regex catch the name pexels-photo-1055058.jpeg\n",
      "Save the img at F:\\PythonOpencvDemo\\deeplearning-practice\\practic\\hookbook\\results\\pexels-photo-1055058.jpeg\n",
      "the real format is JPEG\n",
      "regex catch the name pexels-photo-573238.jpeg\n",
      "Save the img at F:\\PythonOpencvDemo\\deeplearning-practice\\practic\\hookbook\\results\\pexels-photo-573238.jpeg\n",
      "the real format is JPEG\n",
      "regex catch the name pexels-photo-870843.jpeg\n",
      "Save the img at F:\\PythonOpencvDemo\\deeplearning-practice\\practic\\hookbook\\results\\pexels-photo-870843.jpeg\n",
      "the real format is JPEG\n",
      "regex catch the name pexels-photo-556664.jpeg\n",
      "Save the img at F:\\PythonOpencvDemo\\deeplearning-practice\\practic\\hookbook\\results\\pexels-photo-556664.jpeg\n"
     ]
    }
   ],
   "source": [
    "results = os.path.abspath('../results')\n",
    "\n",
    "if not os.path.exists(results):\n",
    "    os.makedirs(results)\n",
    "\n",
    "for i in target:\n",
    "    img_resp = requests.get(i, stream=True)\n",
    "    image = Image.open(img_resp.raw)\n",
    "    print(\"the real format is {}\".format(image.format))\n",
    "    \n",
    "    filename = re.match(r\".*(pexels-photo-([0-9]*)\\.jpeg).*\", i)\n",
    "    if filename is None:\n",
    "        continue\n",
    "    filename = filename.group(1)\n",
    "    print('regex catch the name {}'.format(filename))\n",
    "    \n",
    "    filename = os.path.join(results, filename)\n",
    "    \n",
    "    with open(filename, 'wb') as f:\n",
    "        for chunk in img_resp.iter_content(2048):\n",
    "            f.write(chunk)\n",
    "        print('Save the img at {}'.format(filename))"
   ]
  },
  {
   "cell_type": "code",
   "execution_count": null,
   "metadata": {},
   "outputs": [],
   "source": []
  }
 ],
 "metadata": {
  "kernelspec": {
   "display_name": "Python 3",
   "language": "python",
   "name": "python3"
  },
  "language_info": {
   "codemirror_mode": {
    "name": "ipython",
    "version": 3
   },
   "file_extension": ".py",
   "mimetype": "text/x-python",
   "name": "python",
   "nbconvert_exporter": "python",
   "pygments_lexer": "ipython3",
   "version": "3.6.4"
  }
 },
 "nbformat": 4,
 "nbformat_minor": 2
}
