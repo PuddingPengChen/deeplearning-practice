{
 "cells": [
  {
   "cell_type": "code",
   "execution_count": null,
   "metadata": {},
   "outputs": [],
   "source": [
    "import requests\n",
    "import re\n",
    "import os\n",
    "\n",
    "from PIL import Image\n",
    "from bs4 import BeautifulSoup\n",
    "from fake_useragent import UserAgent\n",
    "from urllib.parse import urljoin\n",
    "from urllib.parse import urlparse\n",
    "from tldextract import extract\n",
    "from pprint import pprint\n",
    "\n",
    "url = 'http://aiacademy.tw/'\n",
    "\n",
    "fu = UserAgent()\n",
    "headers = {'User-Agent': fu.random}\n",
    "resp = requests.get(url, headers=headers)\n",
    "soup = BeautifulSoup(resp.text, 'lxml')"
   ]
  },
  {
   "cell_type": "code",
   "execution_count": null,
   "metadata": {},
   "outputs": [],
   "source": [
    "def invalid_href(url):\n",
    "    check_anchor = re.match('.*#.*', url)\n",
    "    check_protocol = re.match('[^https|http].*', urlparse(url).scheme)\n",
    "    check_js = re.match('javascript.*', url)\n",
    "    return any([check_anchor, check_protocol, check_js])\n",
    "\n",
    "def inner_href(url, domain):\n",
    "    return extract(url).domain == domain"
   ]
  },
  {
   "cell_type": "code",
   "execution_count": null,
   "metadata": {},
   "outputs": [],
   "source": [
    "wait_list = [url]\n",
    "view_list = []\n",
    "\n",
    "domain = extract(url).domain\n",
    "\n",
    "while wait_list:\n",
    "    link = wait_list.pop()\n",
    "    if link in view_list:\n",
    "        continue\n",
    "        \n",
    "    if incalid_href(link):\n",
    "        continue\n",
    "        \n",
    "    if not inner_href(link, domain):\n",
    "        continue\n",
    "        \n",
    "    print(link)\n",
    "    view_list.append(link)\n",
    "    \n",
    "    page_resp = requests.get(link, headers=headers)\n",
    "    page_soup = BeautifulSoup(page_resp.text, 'lxml')\n",
    "    \n",
    "    links = page_soup.find_all('a')\n",
    "    links = [link['href'] for link in links if link.has_attr('href')]\n",
    "    links = [urljoin(page_resp.url, link) for link in links]\n",
    "    links = list(filter(lambda x: x not in view_list, links))\n",
    "    \n",
    "    wait_list += links\n",
    "    wait_list = list(set(wait_list))\n",
    "\n",
    "print('view list')\n",
    "pprint(view_list)\n",
    "    \n",
    "    \n",
    "    \n",
    "    \n",
    "    "
   ]
  },
  {
   "cell_type": "code",
   "execution_count": null,
   "metadata": {},
   "outputs": [],
   "source": []
  }
 ],
 "metadata": {
  "kernelspec": {
   "display_name": "Python 3",
   "language": "python",
   "name": "python3"
  },
  "language_info": {
   "codemirror_mode": {
    "name": "ipython",
    "version": 3
   },
   "file_extension": ".py",
   "mimetype": "text/x-python",
   "name": "python",
   "nbconvert_exporter": "python",
   "pygments_lexer": "ipython3",
   "version": "3.6.4"
  }
 },
 "nbformat": 4,
 "nbformat_minor": 2
}
