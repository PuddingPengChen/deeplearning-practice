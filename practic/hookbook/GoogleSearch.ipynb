{
 "cells": [
  {
   "cell_type": "markdown",
   "metadata": {},
   "source": [
    "### 1. 正则的几个用法"
   ]
  },
  {
   "cell_type": "markdown",
   "metadata": {},
   "source": [
    "1. 匹配手机号"
   ]
  },
  {
   "cell_type": "code",
   "execution_count": 1,
   "metadata": {},
   "outputs": [
    {
     "name": "stdout",
     "output_type": "stream",
     "text": [
      "['135-0009-4747', '18847868856']\n"
     ]
    }
   ],
   "source": [
    "import re\n",
    "\n",
    "phone_p = re.compile('\\d{3}[-\\s]?\\d{4}[-\\s]?\\d{4}')\n",
    "result = re.findall(phone_p, 'Myphone is :135-0009-4747 or 18847868856')\n",
    "print(result)"
   ]
  },
  {
   "cell_type": "markdown",
   "metadata": {},
   "source": [
    "2.贪婪匹配和非贪婪匹配\n",
    "\n",
    "- 贪婪匹配: *\n",
    "\n",
    "- 非贪婪匹配(可能为0个)： *?\n",
    "\n",
    "- 贪婪匹配所有字符:  .*  \n",
    "\n",
    "- 非贪婪匹配所有字符: .*? "
   ]
  },
  {
   "cell_type": "code",
   "execution_count": 7,
   "metadata": {},
   "outputs": [
    {
     "name": "stdout",
     "output_type": "stream",
     "text": [
      "<_sre.SRE_Match object; span=(0, 6), match='我爱好好好好'>\n",
      "<_sre.SRE_Match object; span=(0, 3), match='我爱好'>\n"
     ]
    }
   ],
   "source": [
    "import re\n",
    "p1 = re.compile(r'我爱好.*')\n",
    "result = re.match(p1, '我爱好好好好')\n",
    "print(result)\n",
    "\n",
    "p2 = re.compile(r'我爱好.*?')\n",
    "result = re.match(p2, '我爱好好好好')\n",
    "print(result)"
   ]
  },
  {
   "cell_type": "markdown",
   "metadata": {},
   "source": [
    "3.使用捕获组\n",
    "\n",
    "括号的使用\n",
    "findall可以用于找只有一个匹配内容的，相当于只有一个括号的情况，但是当有多个括号的时候，使用findall就会比较麻烦"
   ]
  },
  {
   "cell_type": "code",
   "execution_count": 8,
   "metadata": {},
   "outputs": [
    {
     "name": "stdout",
     "output_type": "stream",
     "text": [
      "afs123-456gds\n",
      "123-456\n",
      "123\n",
      "456\n"
     ]
    }
   ],
   "source": [
    "p = re.compile(r'[a-z]+((\\d+)-(\\d+))[a-z]+')\n",
    " \n",
    "result = re.match(p, 'afs123-456gds')\n",
    "print(result.group()) # afs123-456gds\n",
    "print(result.group(1)) # 123-456\n",
    "print(result.group(2)) # 123\n",
    "print(result.group(3)) # 456"
   ]
  },
  {
   "cell_type": "markdown",
   "metadata": {},
   "source": [
    "4.字符串的替换"
   ]
  },
  {
   "cell_type": "code",
   "execution_count": 9,
   "metadata": {},
   "outputs": [
    {
     "name": "stdout",
     "output_type": "stream",
     "text": [
      "tom中文jerry中文haha\n"
     ]
    }
   ],
   "source": [
    "import re\n",
    " \n",
    "p = re.compile(r'\\d+')\n",
    " \n",
    "result = re.sub(p, '中文', 'tom32jerry456haha')\n",
    "print(result) # tom中文jerry中文haha"
   ]
  },
  {
   "cell_type": "markdown",
   "metadata": {},
   "source": [
    "### 2.构建谷歌搜索函数\n",
    "\n",
    "- 关键点1:如果实现翻墙？在本地使用了小飞机，如何让我们的python请求也经过小飞机？答案是使用代理，小飞机的代理端口是1080\n",
    "所以只需要将代理指定到本地的1080即可\n",
    "\n",
    "- 关键点2:仔细观察谷歌搜索时向服务器发送的请求，可以获得最近一年，最近一个月最近一周的结果\n"
   ]
  },
  {
   "cell_type": "code",
   "execution_count": 6,
   "metadata": {},
   "outputs": [
    {
     "name": "stderr",
     "output_type": "stream",
     "text": [
      "C:\\Users\\mk10730\\AppData\\Local\\Continuum\\anaconda3\\lib\\site-packages\\urllib3\\connectionpool.py:858: InsecureRequestWarning: Unverified HTTPS request is being made. Adding certificate verification is strongly advised. See: https://urllib3.readthedocs.io/en/latest/advanced-usage.html#ssl-warnings\n",
      "  InsecureRequestWarning)\n"
     ]
    },
    {
     "name": "stdout",
     "output_type": "stream",
     "text": [
      "<div id=\"resultStats\">Page 6 of about 13,300,000 results<nobr> (0.27 seconds) </nobr></div>\n",
      "森峰科技研发,生产激光切割设备,主要产品有激光切割机,激光雕刻机,激光打标机等.产品均已通过FDA,CE等认证，森峰的产品切割效果在同行业中处于优先.\n",
      "\n",
      "\n",
      "Mar 28, 2016 - 我国目前已成为世界最大的钢铁生产和消费的第一大国，近年来，以满足工业市场的需求，各种用于三维工件切割钢管和其它激光切割加工设备的 ...\n",
      "\n",
      "\n",
      "激光切割机：光纤激光切割机、二氧化碳CO2激光切割机、全自动激光切管机、三维五轴激光切割机、中小功率激光切割机、二氧化碳CO2激光陶瓷切割机、 ...\n",
      "\n",
      "\n",
      "武汉高能激光设备制造有限公司是一家集专业激光成套设备研发、生产和销售高精度数控激光切割机和工业激光产品的高新技术企业，主要经营金属激光切割机,光纤 ...\n",
      "\n",
      "\n",
      "三菱MITSUBISHI光纖激光加工機 ... 三菱二氧化碳(二维)激光加工机ML4020RX系列. 查看詳情 · 三菱電機MITSUBISHI激光切割機HV系列. 查看詳情 ...\n",
      "\n",
      "\n",
      "2015年6月，作为我国自动化持续投资的一部分，提高产品质量，基龙购买了该激光切割机。这种德国设计的激光切割钢板快速，高效，精度高。非常干净的钢切割生产， ...\n",
      "\n",
      "\n",
      "全新外观设计，性能大幅提升，比肩国际水平的新一代高速光纤激光切割机龙门双驱床身结构，高强度铝合金横梁，高效率自动交换工作台，生产能力倍增薄板超高速 ...\n",
      "\n",
      "\n",
      "购买光纤激光切割机,咨询上海沪工.沪工专业研发生产品牌光纤激光切割机.沪工光纤激光切割机质量好,切割速度快,加工精度高.沪工光纤激光切割机型号/配置/价格, ...\n",
      "\n",
      "\n",
      "FM3015中功率数控光纤激光切割机采用成熟的龙门式机械结构、纵向双边驱动，主要核心部件均采用国际一线品牌，精工制作，保持了梅塞尔产品一贯的高标准。\n",
      "\n",
      "\n",
      "伺服电机在激光切割机中是非常重要的一个部件，其质量好坏决定设备使用的稳定性，尤其是加工轮廓的变形问题。目前，在激光切割机中使用最多的伺服电机品牌为 ...\n",
      "\n",
      "\n"
     ]
    },
    {
     "data": {
      "text/plain": [
       "[{'text': '森峰科技研发,生产激光切割设备,主要产品有激光切割机,激光雕刻机,激光打标机等.产品均已通过FDA,CE等认证，森峰的产品切割效果在同行业中处于优先.'},\n",
       " {'text': 'Mar 28, 2016 - 我国目前已成为世界最大的钢铁生产和消费的第一大国，近年来，以满足工业市场的需求，各种用于三维工件切割钢管和其它激光切割加工设备的\\xa0...'},\n",
       " {'text': '激光切割机：光纤激光切割机、二氧化碳CO2激光切割机、全自动激光切管机、三维五轴激光切割机、中小功率激光切割机、二氧化碳CO2激光陶瓷切割机、\\xa0...'},\n",
       " {'text': '武汉高能激光设备制造有限公司是一家集专业激光成套设备研发、生产和销售高精度数控激光切割机和工业激光产品的高新技术企业，主要经营金属激光切割机,光纤\\xa0...'},\n",
       " {'text': '三菱MITSUBISHI光纖激光加工機 ... 三菱二氧化碳(二维)激光加工机ML4020RX系列. 查看詳情 · 三菱電機MITSUBISHI激光切割機HV系列. 查看詳情\\xa0...'},\n",
       " {'text': '2015年6月，作为我国自动化持续投资的一部分，提高产品质量，基龙购买了该激光切割机。这种德国设计的激光切割钢板快速，高效，精度高。非常干净的钢切割生产，\\xa0...'},\n",
       " {'text': '全新外观设计，性能大幅提升，比肩国际水平的新一代高速光纤激光切割机龙门双驱床身结构，高强度铝合金横梁，高效率自动交换工作台，生产能力倍增薄板超高速\\xa0...'},\n",
       " {'text': '购买光纤激光切割机,咨询上海沪工.沪工专业研发生产品牌光纤激光切割机.沪工光纤激光切割机质量好,切割速度快,加工精度高.沪工光纤激光切割机型号/配置/价格,\\xa0...'},\n",
       " {'text': 'FM3015中功率数控光纤激光切割机采用成熟的龙门式机械结构、纵向双边驱动，主要核心部件均采用国际一线品牌，精工制作，保持了梅塞尔产品一贯的高标准。'},\n",
       " {'text': '伺服电机在激光切割机中是非常重要的一个部件，其质量好坏决定设备使用的稳定性，尤其是加工轮廓的变形问题。目前，在激光切割机中使用最多的伺服电机品牌为\\xa0...'}]"
      ]
     },
     "execution_count": 6,
     "metadata": {},
     "output_type": "execute_result"
    }
   ],
   "source": [
    "import re\n",
    "import requests \n",
    "from bs4 import BeautifulSoup\n",
    "proxy = {\"http\":\"http://127.0.0.1:1080\",\"https\":\"https://127.0.0.1:1080\"}\n",
    "headers_Get = {\n",
    "        'User-Agent': 'Mozilla/5.0 (Windows NT 6.1; WOW64; rv:49.0) Gecko/20100101 Firefox/49.0',\n",
    "        'Accept': 'text/html,application/xhtml+xml,application/xml;q=0.9,*/*;q=0.8',\n",
    "        'Accept-Language': 'en-US,en;q=0.5',\n",
    "        'Accept-Encoding': 'gzip, deflate',\n",
    "        'DNT': '1',\n",
    "        'Connection': 'keep-alive',\n",
    "        'Upgrade-Insecure-Requests': '1'\n",
    "    }\n",
    "\n",
    "\n",
    "def google(q):\n",
    "    s = requests.Session()\n",
    "    q = '+'.join(q.split())\n",
    "    tbs = '&tbs=qdr:y'\n",
    "#     url = 'https://www.google.com/search?q=' + q + tbs + '&ie=utf-8&oe=utf-8'\n",
    "    url = 'https://www.google.com/search?q=' + q + '&start=50&ie=utf-8&oe=utf-8'\n",
    "    r = s.get(url, headers=headers_Get,proxies = proxy,verify=False)\n",
    "\n",
    "    soup = BeautifulSoup(r.text, \"html.parser\")\n",
    "    print(soup.find('div', id='resultStats'))\n",
    "    output = []\n",
    "#     for searchWrapper in soup.find_all('h3', {'class':'r'}): #this line may change in future based on google's web page structure\n",
    "#         url = searchWrapper.find('a')[\"href\"] \n",
    "#         text = searchWrapper.find('a').text.strip()\n",
    "#         result = {'text': text, 'url': url}\n",
    "#         output.append(result)\n",
    "    \n",
    "    for content_p in soup.find_all('span', {'class':'st'}):\n",
    "        text = content_p.text\n",
    "        result = {'text': text}\n",
    "        output.append(result)\n",
    "        print(text)\n",
    "        print(\"\\n\")\n",
    "    return output\n",
    "\n",
    "(google(\"激光切割机\"))"
   ]
  },
  {
   "cell_type": "code",
   "execution_count": null,
   "metadata": {},
   "outputs": [],
   "source": []
  }
 ],
 "metadata": {
  "kernelspec": {
   "display_name": "Python 3",
   "language": "python",
   "name": "python3"
  },
  "language_info": {
   "codemirror_mode": {
    "name": "ipython",
    "version": 3
   },
   "file_extension": ".py",
   "mimetype": "text/x-python",
   "name": "python",
   "nbconvert_exporter": "python",
   "pygments_lexer": "ipython3",
   "version": "3.6.4"
  }
 },
 "nbformat": 4,
 "nbformat_minor": 2
}
