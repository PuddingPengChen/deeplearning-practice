{
 "cells": [
  {
   "cell_type": "markdown",
   "metadata": {},
   "source": [
    "### 1. 正则的几个用法"
   ]
  },
  {
   "cell_type": "markdown",
   "metadata": {},
   "source": [
    "1. 匹配手机号"
   ]
  },
  {
   "cell_type": "code",
   "execution_count": 1,
   "metadata": {},
   "outputs": [
    {
     "name": "stdout",
     "output_type": "stream",
     "text": [
      "['135-0009-4747', '18847868856']\n"
     ]
    }
   ],
   "source": [
    "import re\n",
    "\n",
    "phone_p = re.compile('\\d{3}[-\\s]?\\d{4}[-\\s]?\\d{4}')\n",
    "result = re.findall(phone_p, 'Myphone is :135-0009-4747 or 18847868856')\n",
    "print(result)"
   ]
  },
  {
   "cell_type": "markdown",
   "metadata": {},
   "source": [
    "2.贪婪匹配和非贪婪匹配\n",
    "\n",
    "- 贪婪匹配: *\n",
    "\n",
    "- 非贪婪匹配(可能为0个)： *?\n",
    "\n",
    "- 贪婪匹配所有字符:  .*  \n",
    "\n",
    "- 非贪婪匹配所有字符: .*? "
   ]
  },
  {
   "cell_type": "code",
   "execution_count": 7,
   "metadata": {},
   "outputs": [
    {
     "name": "stdout",
     "output_type": "stream",
     "text": [
      "<_sre.SRE_Match object; span=(0, 6), match='我爱好好好好'>\n",
      "<_sre.SRE_Match object; span=(0, 3), match='我爱好'>\n"
     ]
    }
   ],
   "source": [
    "import re\n",
    "p1 = re.compile(r'我爱好.*')\n",
    "result = re.match(p1, '我爱好好好好')\n",
    "print(result)\n",
    "\n",
    "p2 = re.compile(r'我爱好.*?')\n",
    "result = re.match(p2, '我爱好好好好')\n",
    "print(result)"
   ]
  },
  {
   "cell_type": "markdown",
   "metadata": {},
   "source": [
    "3.使用捕获组\n",
    "\n",
    "括号的使用\n",
    "findall可以用于找只有一个匹配内容的，相当于只有一个括号的情况，但是当有多个括号的时候，使用findall就会比较麻烦"
   ]
  },
  {
   "cell_type": "code",
   "execution_count": 8,
   "metadata": {
    "scrolled": true
   },
   "outputs": [
    {
     "name": "stdout",
     "output_type": "stream",
     "text": [
      "afs123-456gds\n",
      "123-456\n",
      "123\n",
      "456\n"
     ]
    }
   ],
   "source": [
    "p = re.compile(r'[a-z]+((\\d+)-(\\d+))[a-z]+')\n",
    " \n",
    "result = re.match(p, 'afs123-456gds')\n",
    "print(result.group()) # afs123-456gds\n",
    "print(result.group(1)) # 123-456\n",
    "print(result.group(2)) # 123\n",
    "print(result.group(3)) # 456"
   ]
  },
  {
   "cell_type": "markdown",
   "metadata": {},
   "source": [
    "4.字符串的替换"
   ]
  },
  {
   "cell_type": "code",
   "execution_count": 9,
   "metadata": {},
   "outputs": [
    {
     "name": "stdout",
     "output_type": "stream",
     "text": [
      "tom中文jerry中文haha\n"
     ]
    }
   ],
   "source": [
    "import re\n",
    " \n",
    "p = re.compile(r'\\d+')\n",
    " \n",
    "result = re.sub(p, '中文', 'tom32jerry456haha')\n",
    "print(result) # tom中文jerry中文haha"
   ]
  },
  {
   "cell_type": "markdown",
   "metadata": {},
   "source": [
    "### 2.构建谷歌搜索函数\n",
    "\n",
    "- 关键点1:如果实现翻墙？在本地使用了小飞机，如何让我们的python请求也经过小飞机？答案是使用代理，小飞机的代理端口是1080\n",
    "所以只需要将代理指定到本地的1080即可\n",
    "\n",
    "- 关键点2:仔细观察谷歌搜索时向服务器发送的请求，可以获得最近一年，最近一个月最近一周的结果\n"
   ]
  },
  {
   "cell_type": "code",
   "execution_count": 8,
   "metadata": {},
   "outputs": [
    {
     "name": "stderr",
     "output_type": "stream",
     "text": [
      "C:\\Users\\mk10730\\AppData\\Local\\Continuum\\anaconda3\\lib\\site-packages\\urllib3\\connectionpool.py:858: InsecureRequestWarning: Unverified HTTPS request is being made. Adding certificate verification is strongly advised. See: https://urllib3.readthedocs.io/en/latest/advanced-usage.html#ssl-warnings\n",
      "  InsecureRequestWarning)\n"
     ]
    },
    {
     "name": "stdout",
     "output_type": "stream",
     "text": [
      "<div id=\"resultStats\">Page 2 of about 149,000 results<nobr> (0.25 seconds) </nobr></div>\n",
      "门头玻璃烤漆外装迷你发光字，与普通亚克力字相比，迷你发光字在体现立体感的 ... 工厂地址：深圳市龙岗区横岗街道西坑社区潭面路8号手机/微信：13728904214 尚 ...\n",
      "\n",
      "\n",
      "Jun 2, 2018 - 深圳横岗桌椅出租出租各式：发光吧台、大圆桌、玻璃转盘、吧台吧椅、休闲桌、 ... 服务范围：全广东各大小城市联系电话： 陆《微信同步》 欢迎来电洽谈。\n",
      "\n",
      "\n",
      "深圳-龙岗-横岗 深圳龙岗区横岗 ... 深圳-龙岗区面议 横岗网站、APP、微信开发、微信小程序、商城、上门服务 横岗LED显示屏、门头招牌、金属字发光字水晶字 ...\n",
      "\n",
      "\n",
      "本公司位于深圳龙岗区橫崗六約工業區，主营 GS挂历|GS台历|GS日历|GS周 ... 手机微信B2C商城开发、响应式设计 公司招牌、形象墙、门头招牌、发光字、灯箱、大型 ...\n",
      "\n",
      "\n",
      "深圳福恩莱精工字有限公司是一家集专业设计、施工、售后服务为一体的现代化光电艺术制品企业。 ... 地址：深圳市龙岗区横岗街道山塘工业区5号楼 ... 冲孔发光字.\n",
      "\n",
      "\n",
      "亚克力|有机玻璃|深圳亚克力|深圳亚克力厂家|深圳有机玻璃厂家|亚克力板材| ... QQ:3176702600 电话微信13421805630 韩生 ... 水晶字制作亚克力水晶字批发水晶发光字压克力制品 ... 所在地区 : 广东省深圳市龙岗区横岗街道沿河路41号2栋2楼 ...\n",
      "\n",
      "\n",
      "微信扫一扫. 快速获取 ... 深圳公司招牌广告制作,公司前台背景墙广告字，形象墙logo标识广告招牌制作。 深圳波 ... 龙华清湖招牌灯箱LED发光字公司形象墙喷绘 1图 ...\n",
      "\n",
      "\n",
      "May 19, 2017 - 深圳市兴仁达科技有限公司 ... 地址：深圳市龙岗区横岗街道大康大万村水岭路12号 ... 文件下载：树脂发光字培训(点击即可下载) ... 微信公众账号.\n",
      "\n",
      "\n",
      "精神堡垒 · 导向标识 · 发光字 · 灯箱; 其它. 电话： 0755-89522055 / 18503080246 / 18320960293 邮箱：2936405490@qq.com 地址：深圳市龙岗区横岗188工业区15 ...\n",
      "\n",
      "\n",
      "2hB广告字雕刻机发光字雕刻机13510432711. 信息主题： ... 地址：中国广东深圳市龙岗区横岗街道坳二路30号一、三楼. 关键字： ... 最新信息. 微信小程序开发\n",
      "\n",
      "\n"
     ]
    },
    {
     "data": {
      "text/plain": [
       "[{'text': '门头玻璃烤漆外装迷你发光字，与普通亚克力字相比，迷你发光字在体现立体感的 ... 工厂地址：深圳市龙岗区横岗街道西坑社区潭面路8号手机/微信：13728904214 尚\\xa0...'},\n",
       " {'text': 'Jun 2, 2018 - 深圳横岗桌椅出租出租各式：发光吧台、大圆桌、玻璃转盘、吧台吧椅、休闲桌、 ... 服务范围：全广东各大小城市联系电话： 陆《微信同步》 欢迎来电洽谈。'},\n",
       " {'text': '深圳-龙岗-横岗 深圳龙岗区横岗 ... 深圳-龙岗区面议 横岗网站、APP、微信开发、微信小程序、商城、上门服务 横岗LED显示屏、门头招牌、金属字发光字水晶字\\xa0...'},\n",
       " {'text': '本公司位于深圳龙岗区橫崗六約工業區，主营 GS挂历|GS台历|GS日历|GS周 ... 手机微信B2C商城开发、响应式设计 公司招牌、形象墙、门头招牌、发光字、灯箱、大型\\xa0...'},\n",
       " {'text': '深圳福恩莱精工字有限公司是一家集专业设计、施工、售后服务为一体的现代化光电艺术制品企业。 ... 地址：深圳市龙岗区横岗街道山塘工业区5号楼 ... 冲孔发光字.'},\n",
       " {'text': '亚克力|有机玻璃|深圳亚克力|深圳亚克力厂家|深圳有机玻璃厂家|亚克力板材| ... QQ:3176702600 电话微信13421805630 韩生 ... 水晶字制作亚克力水晶字批发水晶发光字压克力制品 ... 所在地区 : 广东省深圳市龙岗区横岗街道沿河路41号2栋2楼\\xa0...'},\n",
       " {'text': '微信扫一扫. 快速获取 ... 深圳公司招牌广告制作,公司前台背景墙广告字，形象墙logo标识广告招牌制作。 深圳波 ... 龙华清湖招牌灯箱LED发光字公司形象墙喷绘 1图\\xa0...'},\n",
       " {'text': 'May 19, 2017 - 深圳市兴仁达科技有限公司 ... 地址：深圳市龙岗区横岗街道大康大万村水岭路12号 ... 文件下载：树脂发光字培训(点击即可下载) ... 微信公众账号.'},\n",
       " {'text': '精神堡垒 · 导向标识 · 发光字 · 灯箱; 其它. 电话： 0755-89522055 / 18503080246 / 18320960293 邮箱：2936405490@qq.com 地址：深圳市龙岗区横岗188工业区15\\xa0...'},\n",
       " {'text': '2hB广告字雕刻机发光字雕刻机13510432711. 信息主题： ... 地址：中国广东深圳市龙岗区横岗街道坳二路30号一、三楼. 关键字： ... 最新信息. 微信小程序开发'}]"
      ]
     },
     "execution_count": 8,
     "metadata": {},
     "output_type": "execute_result"
    }
   ],
   "source": [
    "import re\n",
    "import requests \n",
    "from bs4 import BeautifulSoup\n",
    "proxy = {\"http\":\"http://127.0.0.1:1080\",\"https\":\"https://127.0.0.1:1080\"}\n",
    "headers_Get = {\n",
    "        'User-Agent': 'Mozilla/5.0 (Windows NT 6.1; WOW64; rv:49.0) Gecko/20100101 Firefox/49.0',\n",
    "        'Accept': 'text/html,application/xhtml+xml,application/xml;q=0.9,*/*;q=0.8',\n",
    "        'Accept-Language': 'en-US,en;q=0.5',\n",
    "        'Accept-Encoding': 'gzip, deflate',\n",
    "        'DNT': '1',\n",
    "        'Connection': 'keep-alive',\n",
    "        'Upgrade-Insecure-Requests': '1'\n",
    "    }\n",
    "\n",
    "\n",
    "def google(q):\n",
    "    s = requests.Session()\n",
    "    q = '+'.join(q.split())\n",
    "    tbs = '&tbs=qdr:y'\n",
    "#     url = 'https://www.google.com/search?q=' + q + tbs + '&ie=utf-8&oe=utf-8'\n",
    "    url = 'https://www.google.com/search?q=' + q + '&start=10&ie=utf-8&oe=utf-8'\n",
    "    r = s.get(url, headers=headers_Get,proxies = proxy,verify=False)\n",
    "\n",
    "    soup = BeautifulSoup(r.text, \"html.parser\")\n",
    "    print(soup.find('div', id='resultStats'))\n",
    "    output = []\n",
    "#     for searchWrapper in soup.find_all('h3', {'class':'r'}): #this line may change in future based on google's web page structure\n",
    "#         url = searchWrapper.find('a')[\"href\"] \n",
    "#         text = searchWrapper.find('a').text.strip()\n",
    "#         result = {'text': text, 'url': url}\n",
    "#         output.append(result)\n",
    "    \n",
    "    for content_p in soup.find_all('span', {'class':'st'}):\n",
    "        text = content_p.text\n",
    "        result = {'text': text}\n",
    "        output.append(result)\n",
    "        print(text)\n",
    "        print(\"\\n\")\n",
    "    return output\n",
    "\n",
    "(google(\"深圳 横岗 发光字 微信\"))"
   ]
  },
  {
   "cell_type": "code",
   "execution_count": 11,
   "metadata": {},
   "outputs": [
    {
     "name": "stdout",
     "output_type": "stream",
     "text": [
      "340 2\n",
      "340 3\n",
      "340 4\n",
      "340 5\n",
      "340 6\n",
      "340 7\n",
      "340 8\n",
      "340 9\n",
      "340 10\n",
      "340 11\n",
      "340 12\n",
      "340 13\n",
      "340 14\n",
      "340 15\n",
      "340 16\n",
      "340 17\n",
      "340 18\n",
      "340 19\n",
      "340 20\n",
      "340 21\n",
      "340 22\n",
      "340 23\n",
      "340 24\n",
      "340 25\n",
      "340 26\n",
      "340 27\n",
      "340 28\n",
      "340 29\n",
      "340 30\n",
      "340 31\n",
      "340 32\n",
      "340 33\n",
      "340 34\n",
      "340 35\n",
      "340 36\n",
      "340 37\n",
      "340 38\n",
      "340 39\n",
      "340 40\n",
      "340 41\n",
      "340 42\n",
      "340 43\n",
      "340 44\n",
      "340 45\n",
      "340 46\n",
      "340 47\n",
      "340 48\n",
      "340 49\n",
      "340 50\n",
      "340 51\n"
     ]
    }
   ],
   "source": [
    "#coding:utf-8\n",
    "import requests\n",
    "import json\n",
    "import time\n",
    "import re\n",
    "\n",
    "headers = {\n",
    "    'Host':\"map.baidu.com\",\n",
    "    \"Accept\": \"text/html,application/xhtml+xml,application/xml;q=0.9,*/*;q=0.8\",\n",
    "    \"Accept-Encoding\": \"gzip, deflate\",\n",
    "    \"Accept-Language\": \"en-US,en;q=0.5\",\n",
    "    \"Connection\": \"keep-alive\",\n",
    "    \"User-Agent\": \"Mozilla/5.0 (X11; Ubuntu; Linux x86_64; rv:39.0) Gecko/20100101 Firefox/39.0\"}\n",
    "\n",
    "def citys():\n",
    "    html=requests.get('http://map.baidu.com/?newmap=1&reqflag=pcmap&biz=1&from=webmap&da_par=baidu&pcevaname=pc4.1&qt=s&da_src=searchBox.button&wd=%E6%B1%BD%E8%BD%A6%E7%BE%8E%E5%AE%B9%E5%BA%97&c=1&src=0&wd2=&sug=0&l=5&b=(7002451.220000001,1994587.88;19470675.22,7343963.88)&from=webmap&biz_forward={%22scaler%22:1,%22styles%22:%22pl%22}&sug_forward=&tn=B_NORMAL_MAP&nn=0&u_loc=12736591.152491,3547888.166124&ie=utf-8&t=1459951988807',headers=headers).text\n",
    "    f=open('city_ids.txt','a')\n",
    "    data=json.loads(html)\n",
    "    for item in data['content']:\n",
    "        #for city in item['city']:\n",
    "            f.write(str(item)+'\\n')\n",
    "    f.close()\n",
    "\n",
    "def get_infor(keyword,code,page):\n",
    "    html=requests.get('http://map.baidu.com/?newmap=1&reqflag=pcmap&biz=1&from=webmap&da_par=baidu&pcevaname=pc4.1&qt=con&from=webmap&c='+str(code)+'&wd='+keyword+'&wd2=&pn='+str(page)+'&nn='+str(page*10)+'&db=0&sug=0&addr=0&&da_src=pcmappg.poi.page&on_gel=1&src=7&gr=3&l=12&tn=B_NORMAL_MAP&u_loc=12736591.152491,3547888.166124&ie=utf-8',headers=headers).text\n",
    "    data=json.loads(html)['content']\n",
    "    return data\n",
    "\n",
    "\n",
    "def main():\n",
    "    keys=['search']\n",
    "    for keyword in keys:\n",
    "        f=open(keyword+'_tels.txt','a')\n",
    "#         for line in open('city_ids.txt','r').readlines():\n",
    "#             line=line.replace('\\n','')\n",
    "#             code=340\n",
    "#             page=1\n",
    "#             while True:\n",
    "#                 try:\n",
    "#                     data=get_infor(keyword,code,page)\n",
    "#                 except:\n",
    "#                     break\n",
    "#                 if data==[]:\n",
    "#                     break\n",
    "#                 for item in data:\n",
    "#                     f.write(str(item['area_name'])+',    ')\n",
    "#                     f.write(str(item['name'])+',    ')\n",
    "#                     f.write(str(item['addr'])+',    ')\n",
    "#                     f.write(str(item['ext']['detail_info']['phone'])+'\\n')\n",
    "#                     # print(str(item['area_name'])+'\\n')\n",
    "                    \n",
    "#                 page+=1\n",
    "#                 print(code,page)\n",
    "#                 time.sleep(1)\n",
    "#         f.close()\n",
    "        code=340\n",
    "        page=1\n",
    "        while True:\n",
    "            try:\n",
    "                data=get_infor(keyword,code,page)\n",
    "            except:\n",
    "                break\n",
    "            if data==[]:\n",
    "                break\n",
    "            for item in data:\n",
    "                f.write(str(item['area_name'])+',    ')\n",
    "                f.write(str(item['name'])+',    ')\n",
    "                f.write(str(item['addr'])+',    ')\n",
    "                f.write(str(item['ext']['detail_info']['phone'])+'\\n')\n",
    "                # print(str(item['area_name'])+'\\n')\n",
    "\n",
    "            page+=1\n",
    "            print(code,page)\n",
    "            time.sleep(1)\n",
    "        f.close()\n",
    "main()"
   ]
  },
  {
   "cell_type": "code",
   "execution_count": null,
   "metadata": {},
   "outputs": [],
   "source": []
  }
 ],
 "metadata": {
  "kernelspec": {
   "display_name": "Python 3",
   "language": "python",
   "name": "python3"
  },
  "language_info": {
   "codemirror_mode": {
    "name": "ipython",
    "version": 3
   },
   "file_extension": ".py",
   "mimetype": "text/x-python",
   "name": "python",
   "nbconvert_exporter": "python",
   "pygments_lexer": "ipython3",
   "version": "3.6.4"
  }
 },
 "nbformat": 4,
 "nbformat_minor": 2
}
