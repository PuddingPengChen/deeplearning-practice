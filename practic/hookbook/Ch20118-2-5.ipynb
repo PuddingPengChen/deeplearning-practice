{
 "cells": [
  {
   "cell_type": "code",
   "execution_count": 6,
   "metadata": {},
   "outputs": [],
   "source": [
    "import numpy as np\n",
    "\n",
    "def generate_cude(x, y, length, step, power):\n",
    "    left_to_right = True\n",
    "    rb = 'G00 X-{} Y-{} \\n'.format(x,y)\n",
    "    for ys in np.arange(y, y+length, step):\n",
    "        if left_to_right:\n",
    "            left_to_right = False\n",
    "            rb += 'G01 X-{} Y-{} S{}\\n'.format(x+length, round(ys,3), power)\n",
    "            rb += 'G01 X-{} Y-{}\\n'.format(x+length, round(ys+step,3), power)\n",
    "        else:\n",
    "            left_to_right = True\n",
    "            rb += 'G01 X-{} Y-{} S{}\\n'.format(x, round(ys,3), power)\n",
    "            rb += 'G01 X-{} Y-{}\\n'.format(x, round(ys+step,3), power)\n",
    "    return rb\n",
    "    \n",
    "                "
   ]
  },
  {
   "cell_type": "code",
   "execution_count": 2,
   "metadata": {},
   "outputs": [
    {
     "name": "stdout",
     "output_type": "stream",
     "text": [
      "G00 X-5 Y-5 \n",
      "G01 X-15 Y-5.0 S100\n",
      "G01 X-15 Y-5.4\n",
      "G01 X-5 Y-5.4 S100\n",
      "G01 X-5 Y-5.8\n",
      "G01 X-15 Y-5.8 S100\n",
      "G01 X-15 Y-6.2\n",
      "G01 X-5 Y-6.2 S100\n",
      "G01 X-5 Y-6.6\n",
      "G01 X-15 Y-6.6 S100\n",
      "G01 X-15 Y-7.0\n",
      "G01 X-5 Y-7.0 S100\n",
      "G01 X-5 Y-7.4\n",
      "G01 X-15 Y-7.4 S100\n",
      "G01 X-15 Y-7.8\n",
      "G01 X-5 Y-7.8 S100\n",
      "G01 X-5 Y-8.2\n",
      "G01 X-15 Y-8.2 S100\n",
      "G01 X-15 Y-8.6\n",
      "G01 X-5 Y-8.6 S100\n",
      "G01 X-5 Y-9.0\n",
      "G01 X-15 Y-9.0 S100\n",
      "G01 X-15 Y-9.4\n",
      "G01 X-5 Y-9.4 S100\n",
      "G01 X-5 Y-9.8\n",
      "G01 X-15 Y-9.8 S100\n",
      "G01 X-15 Y-10.2\n",
      "G01 X-5 Y-10.2 S100\n",
      "G01 X-5 Y-10.6\n",
      "G01 X-15 Y-10.6 S100\n",
      "G01 X-15 Y-11.0\n",
      "G01 X-5 Y-11.0 S100\n",
      "G01 X-5 Y-11.4\n",
      "G01 X-15 Y-11.4 S100\n",
      "G01 X-15 Y-11.8\n",
      "G01 X-5 Y-11.8 S100\n",
      "G01 X-5 Y-12.2\n",
      "G01 X-15 Y-12.2 S100\n",
      "G01 X-15 Y-12.6\n",
      "G01 X-5 Y-12.6 S100\n",
      "G01 X-5 Y-13.0\n",
      "G01 X-15 Y-13.0 S100\n",
      "G01 X-15 Y-13.4\n",
      "G01 X-5 Y-13.4 S100\n",
      "G01 X-5 Y-13.8\n",
      "G01 X-15 Y-13.8 S100\n",
      "G01 X-15 Y-14.2\n",
      "G01 X-5 Y-14.2 S100\n",
      "G01 X-5 Y-14.6\n",
      "G01 X-15 Y-14.6 S100\n",
      "G01 X-15 Y-15.0\n",
      "\n"
     ]
    }
   ],
   "source": [
    "print(generate_cude(5, 5, 10, 0.4, 100))"
   ]
  },
  {
   "cell_type": "code",
   "execution_count": 3,
   "metadata": {},
   "outputs": [],
   "source": [
    "def generate_test_file():\n",
    "    with open('gray_test.gcode','wt') as f:\n",
    "        f.write('$H \\n')\n",
    "        power = 0\n",
    "        for y in range(0, 150, 15):\n",
    "            for x in range(0, 150, 15):\n",
    "                power+=10\n",
    "                if power>1000:\n",
    "                    power = 1000\n",
    "                tmp = 'M4 S{} \\n'.format(round(power,3))\n",
    "                f.write(tmp)\n",
    "                rb = generate_cude(x, y, 10, 0.2, round(power,3))\n",
    "                f.write(rb)\n",
    "        f.write('$H \\n')"
   ]
  },
  {
   "cell_type": "code",
   "execution_count": 7,
   "metadata": {},
   "outputs": [],
   "source": [
    "generate_test_file()"
   ]
  },
  {
   "cell_type": "code",
   "execution_count": null,
   "metadata": {
    "collapsed": true
   },
   "outputs": [],
   "source": []
  }
 ],
 "metadata": {
  "kernelspec": {
   "display_name": "Python 2",
   "language": "python",
   "name": "python2"
  },
  "language_info": {
   "codemirror_mode": {
    "name": "ipython",
    "version": 2
   },
   "file_extension": ".py",
   "mimetype": "text/x-python",
   "name": "python",
   "nbconvert_exporter": "python",
   "pygments_lexer": "ipython2",
   "version": "2.7.14"
  }
 },
 "nbformat": 4,
 "nbformat_minor": 2
}
