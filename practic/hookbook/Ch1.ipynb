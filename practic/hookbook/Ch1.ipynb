{
 "cells": [
  {
   "cell_type": "code",
   "execution_count": 6,
   "metadata": {
    "collapsed": true
   },
   "outputs": [],
   "source": [
    "def generate_gcode(x, y,length):\n",
    "    rb = 'M4 P0 \\n'\n",
    "    rb += 'G0 X{} Y{} \\n'.format(x-length,y)\n",
    "    rb += 'M4 P100 \\n'\n",
    "    rb += 'G1 X{} Y{} \\n'.format(x+length,y)\n",
    "    rb += 'M4 P0 \\n'\n",
    "    rb += 'G0 X{} Y{} \\n'.format(x,y-length)\n",
    "    rb += 'M4 P100 \\n'\n",
    "    rb += 'G1 X{} Y{} \\n'.format(x,y+length)\n",
    "    rb += 'M4 P0 \\n'\n",
    "    return rb\n"
   ]
  },
  {
   "cell_type": "code",
   "execution_count": 7,
   "metadata": {},
   "outputs": [
    {
     "name": "stdout",
     "output_type": "stream",
     "text": [
      "M4 P0 \n",
      "G0 X20 Y25 \n",
      "M4 P100 \n",
      "G1 X30 Y25 \n",
      "M4 P0 \n",
      "G0 X25 Y20 \n",
      "M4 P100 \n",
      "G1 X25 Y30 \n",
      "M4 P0 \n",
      "\n"
     ]
    }
   ],
   "source": [
    "print(generate_gcode(25,25,5))"
   ]
  },
  {
   "cell_type": "code",
   "execution_count": 18,
   "metadata": {},
   "outputs": [],
   "source": [
    "def enerate_file():\n",
    "    with open(\"focuse.gcode\", 'wt') as f:\n",
    "        f.write('G28 \\n G0 Z17 \\n M14 \\n M3 S1 \\n G4 S5 \\n')\n",
    "        for y in range(5,250,10):\n",
    "            for x in range(5,450,10):\n",
    "                rb = generate_gcode(x, y, 2)\n",
    "                f.write(rb)\n",
    "                "
   ]
  },
  {
   "cell_type": "code",
   "execution_count": 20,
   "metadata": {
    "collapsed": true
   },
   "outputs": [],
   "source": [
    "enerate_file()"
   ]
  },
  {
   "cell_type": "code",
   "execution_count": 24,
   "metadata": {},
   "outputs": [],
   "source": [
    "import winsound\n",
    "winsound.PlaySound(\"SystemExit\", winsound.SND_ALIAS)"
   ]
  },
  {
   "cell_type": "markdown",
   "metadata": {},
   "source": [
    "### 1. 创建并使用临时文件"
   ]
  },
  {
   "cell_type": "code",
   "execution_count": 25,
   "metadata": {
    "collapsed": true
   },
   "outputs": [],
   "source": [
    "import tempfile\n",
    "\n",
    "def test_temp_file():\n",
    "    with tempfile.TemporaryFile('w+t') as f:\n",
    "        f.write('Hello fuck!\\n')"
   ]
  },
  {
   "cell_type": "code",
   "execution_count": 26,
   "metadata": {
    "collapsed": true
   },
   "outputs": [],
   "source": [
    "test_temp_file()"
   ]
  },
  {
   "cell_type": "markdown",
   "metadata": {},
   "source": [
    "### 2. 可接受任意数量参数的函数\n",
    "\n",
    "为了可以实现接受任意数量的位置参数，可以使用一个 * 参数"
   ]
  },
  {
   "cell_type": "code",
   "execution_count": 27,
   "metadata": {
    "collapsed": true
   },
   "outputs": [],
   "source": [
    "def avg(first, *rest):\n",
    "    return (first + sum(rest)) / (1 + len(rest))"
   ]
  },
  {
   "cell_type": "code",
   "execution_count": 28,
   "metadata": {},
   "outputs": [
    {
     "data": {
      "text/plain": [
       "5.666666666666667"
      ]
     },
     "execution_count": 28,
     "metadata": {},
     "output_type": "execute_result"
    }
   ],
   "source": [
    "avg(3, 5, 9)"
   ]
  },
  {
   "cell_type": "markdown",
   "metadata": {},
   "source": [
    "### 3. 定义匿名函数\n",
    "使用lambda表达式"
   ]
  },
  {
   "cell_type": "code",
   "execution_count": 29,
   "metadata": {
    "collapsed": true
   },
   "outputs": [],
   "source": [
    "add = lambda x, y: x - y"
   ]
  },
  {
   "cell_type": "code",
   "execution_count": 30,
   "metadata": {},
   "outputs": [
    {
     "data": {
      "text/plain": [
       "-3"
      ]
     },
     "execution_count": 30,
     "metadata": {},
     "output_type": "execute_result"
    }
   ],
   "source": [
    "add(2, 5)"
   ]
  },
  {
   "cell_type": "markdown",
   "metadata": {},
   "source": [
    "### 4. 类，对象相关"
   ]
  },
  {
   "cell_type": "code",
   "execution_count": 31,
   "metadata": {
    "collapsed": true
   },
   "outputs": [],
   "source": [
    "class A:\n",
    "    def __init__(self):\n",
    "        self.a = 7\n",
    "    \n",
    "    def spam(self):\n",
    "        print('A.spam')\n",
    "        \n",
    "\n",
    "class B(A):\n",
    "    \n",
    "    def __init__(self):\n",
    "        super().__init__()\n",
    "        self.b = 9\n",
    "        \n",
    "    def spam(self):\n",
    "        print('B.spam')\n",
    "        super().spam()\n",
    "        print(self.a)\n",
    "        print(self.b)\n",
    "        \n",
    "        "
   ]
  },
  {
   "cell_type": "code",
   "execution_count": 36,
   "metadata": {},
   "outputs": [
    {
     "name": "stdout",
     "output_type": "stream",
     "text": [
      "A.spam\n",
      "B.spam\n",
      "A.spam\n",
      "7\n",
      "9\n"
     ]
    }
   ],
   "source": [
    "fast_a = A()\n",
    "fast_a.spam()\n",
    "\n",
    "fast_b = B()\n",
    "fast_b.spam()"
   ]
  },
  {
   "cell_type": "markdown",
   "metadata": {},
   "source": [
    "### 5. 修饰器\n",
    "使用functools库中的@wraps修饰器来注解包装函数"
   ]
  },
  {
   "cell_type": "code",
   "execution_count": 41,
   "metadata": {},
   "outputs": [],
   "source": [
    "import time\n",
    "from functools import wraps\n",
    "\n",
    "def time_this(func):\n",
    "    \n",
    "    @wraps(func)\n",
    "    def wrapper(*args, **kwargs):\n",
    "        start = time.time()\n",
    "        result = func(*args, **kwargs)\n",
    "        end = time.time()\n",
    "        print(func.__name__ ,end - start)\n",
    "        print('you have a decorator')\n",
    "        return result\n",
    "    \n",
    "    return wrapper"
   ]
  },
  {
   "cell_type": "code",
   "execution_count": 42,
   "metadata": {},
   "outputs": [
    {
     "name": "stdout",
     "output_type": "stream",
     "text": [
      "count_down 0.014999866485595703\n",
      "you have a decorator\n"
     ]
    }
   ],
   "source": [
    "@time_this\n",
    "def count_down(n):\n",
    "    while n > 0:\n",
    "        n -= 1\n",
    "\n",
    "count_down(100000)"
   ]
  },
  {
   "cell_type": "code",
   "execution_count": 52,
   "metadata": {},
   "outputs": [],
   "source": [
    "def generate_point():\n",
    "    with open(\"point.gcode\",'wt') as f:\n",
    "        f.write('G28 \\nM14 \\nM3 S1 \\nG4 S5 \\n')\n",
    "        z_thick = 0\n",
    "        for y in range(10, 160, 20):\n",
    "            for x in range(10, 160, 20):\n",
    "                z_thick+=0.5\n",
    "                if z_thick> 23 :\n",
    "                    z_thick = 23\n",
    "                f.write('G0 X{} Y{} Z{} \\n'.format(x, y, z_thick))\n",
    "                f.write('M4 P100 \\n')\n",
    "                f.write('G4 P100 \\n')\n",
    "                f.write('M4 P0 \\n')\n",
    "        f.write('G28 \\n M15 \\n M3 S0 \\n')\n",
    "                \n",
    "                "
   ]
  },
  {
   "cell_type": "code",
   "execution_count": 54,
   "metadata": {},
   "outputs": [],
   "source": [
    "generate_point()"
   ]
  },
  {
   "cell_type": "code",
   "execution_count": null,
   "metadata": {
    "collapsed": true
   },
   "outputs": [],
   "source": []
  }
 ],
 "metadata": {
  "kernelspec": {
   "display_name": "Python 3",
   "language": "python",
   "name": "python3"
  },
  "language_info": {
   "codemirror_mode": {
    "name": "ipython",
    "version": 3
   },
   "file_extension": ".py",
   "mimetype": "text/x-python",
   "name": "python",
   "nbconvert_exporter": "python",
   "pygments_lexer": "ipython3",
   "version": "3.6.2"
  }
 },
 "nbformat": 4,
 "nbformat_minor": 2
}
