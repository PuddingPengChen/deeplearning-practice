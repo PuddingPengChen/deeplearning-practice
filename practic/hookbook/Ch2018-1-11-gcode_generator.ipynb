{
 "cells": [
  {
   "cell_type": "markdown",
   "metadata": {},
   "source": [
    "### 1. 元编程练习\n",
    "#### 1.1 使用装饰器"
   ]
  },
  {
   "cell_type": "code",
   "execution_count": 3,
   "metadata": {
    "collapsed": true
   },
   "outputs": [],
   "source": [
    "import time\n",
    "from functools import wraps\n",
    "\n",
    "def time_this(func):\n",
    "    @wraps(func)\n",
    "    def wrapper(*args, **kwargs):\n",
    "        start = time.time()\n",
    "        result = func(*args, **kwargs)\n",
    "        end = time.time()\n",
    "        print(func.__name__,\"spend time:\",end - start)\n",
    "        return result\n",
    "    return wrapper\n",
    "        "
   ]
  },
  {
   "cell_type": "code",
   "execution_count": 4,
   "metadata": {},
   "outputs": [
    {
     "name": "stdout",
     "output_type": "stream",
     "text": [
      "count_time spend time: 0.002000093460083008\n"
     ]
    }
   ],
   "source": [
    "@time_this\n",
    "def count_time(n):\n",
    "    while n > 0:\n",
    "        n -= 1\n",
    "\n",
    "count_time(13000)\n",
    "        "
   ]
  },
  {
   "cell_type": "markdown",
   "metadata": {},
   "source": [
    "#### 1.2 带可选参数的修饰器"
   ]
  },
  {
   "cell_type": "code",
   "execution_count": 5,
   "metadata": {
    "collapsed": true
   },
   "outputs": [],
   "source": [
    "from functools import wraps\n",
    "import logging\n",
    "\n",
    "def logged(level, name=None, message=None):\n",
    "    def decorate(func):\n",
    "        logname = name if name else func.__name__\n",
    "        log = logging.getLogger(logname)\n",
    "        \n",
    "        @wraps(func)\n",
    "        def wrapper(*args, **kwargs):\n",
    "            log.log(level, logmsg)\n",
    "            return func(*args, **kwargs)\n",
    "    return decorate\n"
   ]
  },
  {
   "cell_type": "code",
   "execution_count": 9,
   "metadata": {},
   "outputs": [
    {
     "ename": "TypeError",
     "evalue": "'NoneType' object is not callable",
     "output_type": "error",
     "traceback": [
      "\u001b[1;31m---------------------------------------------------------------------------\u001b[0m",
      "\u001b[1;31mTypeError\u001b[0m                                 Traceback (most recent call last)",
      "\u001b[1;32m<ipython-input-9-dc84de7f5b3d>\u001b[0m in \u001b[0;36m<module>\u001b[1;34m()\u001b[0m\n\u001b[0;32m      3\u001b[0m     \u001b[1;32mreturn\u001b[0m \u001b[0mx\u001b[0m \u001b[1;33m+\u001b[0m \u001b[0my\u001b[0m\u001b[1;33m\u001b[0m\u001b[0m\n\u001b[0;32m      4\u001b[0m \u001b[1;33m\u001b[0m\u001b[0m\n\u001b[1;32m----> 5\u001b[1;33m \u001b[0mprint\u001b[0m\u001b[1;33m(\u001b[0m\u001b[0madd\u001b[0m\u001b[1;33m(\u001b[0m\u001b[1;36m5\u001b[0m\u001b[1;33m,\u001b[0m \u001b[1;36m9\u001b[0m\u001b[1;33m)\u001b[0m\u001b[1;33m)\u001b[0m\u001b[1;33m\u001b[0m\u001b[0m\n\u001b[0m",
      "\u001b[1;31mTypeError\u001b[0m: 'NoneType' object is not callable"
     ]
    }
   ],
   "source": [
    "@logged(logging.DEBUG)\n",
    "def add(x, y):\n",
    "    return x + y\n",
    "\n",
    "print(add(5, 9))"
   ]
  },
  {
   "cell_type": "markdown",
   "metadata": {},
   "source": [
    "### 2. 模块与包的常识\n",
    "封装成包，需要确保每个目录都定义一个__init__.py文件，之后就可以执行各种import语句。绝大部分时候让__init__.py空着就好\n",
    "\n",
    "#### 2.1 使用相对路径名导入包中的子模块\n",
    "目录的管理，还有对应的命名空间管理，在大型一点的应用框架中非常重要。\n",
    "\n",
    "#### 2.2 使用sys.path，手动指定对应的包目录\n",
    "\n",
    "#### 2.3 分发包\n",
    "1.相关的代码目录要遵循协议标准\n",
    "2.编写一个setup.py\n",
    "3.创建一个MANIFEST.in文件，列出包中需要包含进工程的非源代码\n"
   ]
  },
  {
   "cell_type": "markdown",
   "metadata": {},
   "source": [
    "### 3.多线程\n",
    "#### 3.1 停止与启东线程\n"
   ]
  },
  {
   "cell_type": "code",
   "execution_count": 10,
   "metadata": {},
   "outputs": [
    {
     "name": "stdout",
     "output_type": "stream",
     "text": [
      "T-minus 10\n",
      "T-minus 9\n",
      "T-minus 8\n",
      "T-minus 7\n",
      "T-minus 6\n",
      "T-minus 5\n",
      "T-minus 4\n",
      "T-minus 3\n",
      "T-minus 2\n",
      "T-minus 1\n"
     ]
    }
   ],
   "source": [
    "import time\n",
    "from threading import Thread\n",
    "\n",
    "def count_down(n):\n",
    "    while n > 0:\n",
    "        print('T-minus', n)\n",
    "        n -= 1\n",
    "        time.sleep(5)\n",
    "\n",
    "t = Thread(target=count_down, args=(10,))\n",
    "t.start()"
   ]
  },
  {
   "cell_type": "code",
   "execution_count": 4,
   "metadata": {},
   "outputs": [],
   "source": [
    "import math\n",
    "import numpy as np\n",
    "\n",
    "def enerate_file(radius, center):\n",
    "    filename = 'circle_rad{}_center{}'.format(radius, center)\n",
    "    with open(\"circle.gcode\", 'wt') as f:\n",
    "        f.write('G28 \\n G0 Z17 \\n M14 \\n M3 S1 \\n G4 S5 \\n')\n",
    "        r = radius\n",
    "#         center = 20\n",
    "        divide = 360\n",
    "        for n in range(0,360):\n",
    "            if n == 0:\n",
    "                f.write('G0 X{} Y{} \\n'.format(center+r*math.cos(2*math.pi*n/divide), center+r*math.sin(2*math.pi*n/divide)))\n",
    "            else :\n",
    "                f.write('G1 X{} Y{} \\n'.format(center+r*math.cos(2*math.pi*n/divide), center+r*math.sin(2*math.pi*n/divide)))\n",
    "        f.write('G1 X{} Y{} \\n'.format(center+r*math.cos(0), center+r*math.sin(0)))\n",
    "                "
   ]
  },
  {
   "cell_type": "code",
   "execution_count": 5,
   "metadata": {},
   "outputs": [],
   "source": [
    "def enerate_circles_file(radius, center, step):\n",
    "    filename = 'circle_rad{}_center{}.gcode'.format(radius, center)\n",
    "    with open(filename, 'wt') as f:\n",
    "        f.write('M19 S1 \\n G0 Z-17 \\n M3 S200\\n G1 F8000 \\n')\n",
    "        divide = 360\n",
    "        for rs in range(0, radius, step):\n",
    "            r = rs\n",
    "            for n in range(0,360):\n",
    "                if n == 0:\n",
    "                    f.write('G0 X{} Y{} \\n'.format((center+r*math.cos(2*math.pi*n/divide))*-1, (center+r*math.sin(2*math.pi*n/divide))*-1))\n",
    "                else :\n",
    "                    f.write('G1 X{} Y{} \\n'.format((center+r*math.cos(2*math.pi*n/divide))*-1, (center+r*math.sin(2*math.pi*n/divide))*-1))\n",
    "            f.write('G1 X{} Y{} \\n'.format(center+r*math.cos(0), center+r*math.sin(0)))\n",
    "            \n",
    "        f.write('M19 S1 \\n G0 Z-17 \\n')\n"
   ]
  },
  {
   "cell_type": "code",
   "execution_count": 13,
   "metadata": {},
   "outputs": [],
   "source": [
    "enerate_circles_file(120, 200, 2)"
   ]
  },
  {
   "cell_type": "code",
   "execution_count": 6,
   "metadata": {},
   "outputs": [],
   "source": [
    "# Gen a gcode file which have the power and certern speed\n",
    "def enerate_power_circles_file(radius, center, step):\n",
    "    filename = 'circle_power{}_center{}.gcode'.format(radius, center)\n",
    "    with open(filename, 'wt') as f:\n",
    "        f.write('M19 S1 \\n G0 Z-17 \\n M3 S200\\n G1 F8000 \\n')\n",
    "        divide = 360\n",
    "        \n",
    "        for rs in range(0, radius, step):\n",
    "            r = rs\n",
    "            power = rs/radius*1000\n",
    "            f.write('G0 X{} Y{} \\n'.format(round(center+r*math.cos(0), 3)*-1, round(center+r*math.sin(0), 3)*-1, round(power, 3)))\n",
    "            for n in range(0,361):\n",
    "                f.write('G1 X{} Y{} S{}\\n'.format(round(center+r*math.cos(2*math.pi*n/divide), 3)*-1, round(center+r*math.sin(2*math.pi*n/divide), 3)*-1, round(power, 3)))\n",
    "            f.write('G01 X{} Y{} S{}\\n'.format(round(center+r*math.cos(0), 3)*-1, round(center+r*math.sin(0), 3)*-1, round(power, 3)))\n",
    "            \n",
    "        f.write('M19 S0 \\nG0 X0 Y0 \\n')"
   ]
  },
  {
   "cell_type": "code",
   "execution_count": 51,
   "metadata": {},
   "outputs": [],
   "source": [
    "enerate_power_circles_file(120, 150, 1)"
   ]
  },
  {
   "cell_type": "code",
   "execution_count": 52,
   "metadata": {},
   "outputs": [],
   "source": [
    "enerate_power_circles_file(50, 150, 1)"
   ]
  },
  {
   "cell_type": "code",
   "execution_count": 7,
   "metadata": {},
   "outputs": [],
   "source": [
    "enerate_power_circles_file(30, 150, 1)"
   ]
  },
  {
   "cell_type": "code",
   "execution_count": 8,
   "metadata": {},
   "outputs": [],
   "source": [
    "enerate_power_circles_file(30, 50, 5)"
   ]
  },
  {
   "cell_type": "code",
   "execution_count": 9,
   "metadata": {},
   "outputs": [],
   "source": [
    "enerate_power_circles_file(30, 100, 5)"
   ]
  },
  {
   "cell_type": "code",
   "execution_count": 10,
   "metadata": {},
   "outputs": [],
   "source": [
    "enerate_power_circles_file(30, 150, 5)"
   ]
  },
  {
   "cell_type": "code",
   "execution_count": 11,
   "metadata": {},
   "outputs": [],
   "source": [
    "enerate_power_circles_file(30, 200, 5)"
   ]
  },
  {
   "cell_type": "code",
   "execution_count": 7,
   "metadata": {},
   "outputs": [],
   "source": [
    "import math\n",
    "import numpy as np\n",
    "\n",
    "def enerate_float_file(radius, center):\n",
    "    filename = 'circle_rad{}_center{}'.format(radius, center)\n",
    "    with open(\"float_circle.gcode\", 'wt') as f:\n",
    "        f.write('G28 \\n G0 Z17 \\n M14 \\n M3 S1 \\n G4 S5 \\n')\n",
    "        r = radius\n",
    "#         center = 20\n",
    "        divide = 360\n",
    "        for n in np.arange(0,360,0.1):\n",
    "            if n == 0:\n",
    "                f.write('G0 X{} Y{} \\n'.format(round(center+r*math.cos(2*math.pi*n/divide),2), round(center+r*math.sin(2*math.pi*n/divide),2)))\n",
    "            else :\n",
    "                f.write('G1 X{} Y{} \\n'.format(round(center+r*math.cos(2*math.pi*n/divide),2), round(center+r*math.sin(2*math.pi*n/divide),2)))\n",
    "        f.write('G1 X{} Y{} \\n'.format(center+r*math.cos(0), center+r*math.sin(0)))"
   ]
  },
  {
   "cell_type": "code",
   "execution_count": 8,
   "metadata": {},
   "outputs": [],
   "source": [
    "enerate_float_file(100, 120)"
   ]
  },
  {
   "cell_type": "code",
   "execution_count": null,
   "metadata": {},
   "outputs": [],
   "source": []
  }
 ],
 "metadata": {
  "kernelspec": {
   "display_name": "Python 3",
   "language": "python",
   "name": "python3"
  },
  "language_info": {
   "codemirror_mode": {
    "name": "ipython",
    "version": 3
   },
   "file_extension": ".py",
   "mimetype": "text/x-python",
   "name": "python",
   "nbconvert_exporter": "python",
   "pygments_lexer": "ipython3",
   "version": "3.6.4"
  }
 },
 "nbformat": 4,
 "nbformat_minor": 2
}
